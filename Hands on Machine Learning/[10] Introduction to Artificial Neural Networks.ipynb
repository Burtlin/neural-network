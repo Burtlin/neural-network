{
 "cells": [
  {
   "cell_type": "code",
   "execution_count": 1,
   "metadata": {
    "collapsed": true
   },
   "outputs": [],
   "source": [
    "import numpy as np\n",
    "from sklearn.datasets import load_iris\n",
    "from sklearn.linear_model import Perceptron\n",
    "\n",
    "iris = load_iris()\n",
    "X = iris.data[:, (2, 3)]  # petal length, petal width\n",
    "y = (iris.target == 0).astype(np.int)  # Iris Setosa?"
   ]
  },
  {
   "cell_type": "code",
   "execution_count": 2,
   "metadata": {
    "collapsed": true
   },
   "outputs": [],
   "source": [
    "per_clf = Perceptron(random_state=42)\n",
    "per_clf.fit(X, y)\n",
    "\n",
    "y_pred = per_clf.predict([[2, 0.5]])"
   ]
  },
  {
   "cell_type": "markdown",
   "metadata": {},
   "source": [
    "# FNN for MNIST¶\n",
    "using tf.learn"
   ]
  },
  {
   "cell_type": "code",
   "execution_count": 3,
   "metadata": {},
   "outputs": [
    {
     "name": "stdout",
     "output_type": "stream",
     "text": [
      "Extracting /tmp/data/train-images-idx3-ubyte.gz\n",
      "Extracting /tmp/data/train-labels-idx1-ubyte.gz\n",
      "Extracting /tmp/data/t10k-images-idx3-ubyte.gz\n",
      "Extracting /tmp/data/t10k-labels-idx1-ubyte.gz\n"
     ]
    }
   ],
   "source": [
    "from tensorflow.examples.tutorials.mnist import input_data\n",
    "\n",
    "mnist = input_data.read_data_sets(\"/tmp/data/\")"
   ]
  },
  {
   "cell_type": "code",
   "execution_count": 4,
   "metadata": {
    "collapsed": true
   },
   "outputs": [],
   "source": [
    "X_train = mnist.train.images\n",
    "X_test = mnist.test.images\n",
    "y_train = mnist.train.labels.astype(\"int\")\n",
    "y_test = mnist.test.labels.astype(\"int\")"
   ]
  },
  {
   "cell_type": "code",
   "execution_count": 5,
   "metadata": {},
   "outputs": [
    {
     "data": {
      "image/png": "[encoded data removed]",
      "text/plain": [
       "<matplotlib.figure.Figure at 0x28e961e5ef0>"
      ]
     },
     "metadata": {},
     "output_type": "display_data"
    },
    {
     "name": "stdout",
     "output_type": "stream",
     "text": [
      "7\n"
     ]
    },
    {
     "data": {
      "image/png": "[encoded data removed]",
      "text/plain": [
       "<matplotlib.figure.Figure at 0x28e96ededa0>"
      ]
     },
     "metadata": {},
     "output_type": "display_data"
    },
    {
     "name": "stdout",
     "output_type": "stream",
     "text": [
      "3\n"
     ]
    },
    {
     "data": {
      "image/png": "[encoded data removed]",
      "text/plain": [
       "<matplotlib.figure.Figure at 0x28e96f97dd8>"
      ]
     },
     "metadata": {},
     "output_type": "display_data"
    },
    {
     "name": "stdout",
     "output_type": "stream",
     "text": [
      "4\n"
     ]
    }
   ],
   "source": [
    "import matplotlib.pyplot as plt\n",
    "for i in range(0,3):\n",
    "    train_img = np.reshape(X_train[i, :], (28, 28))\n",
    "    plt.matshow(train_img, cmap = plt.get_cmap('binary'))\n",
    "    plt.show()\n",
    "    print(y_train[i])"
   ]
  },
  {
   "cell_type": "code",
   "execution_count": 6,
   "metadata": {
    "scrolled": true
   },
   "outputs": [
    {
     "name": "stdout",
     "output_type": "stream",
     "text": [
      "WARNING:tensorflow:Using temporary folder as model directory: C:\\Users\\burt\\AppData\\Local\\Temp\\tmp15_wt50_\n",
      "INFO:tensorflow:Using config: {'_task_type': None, '_task_id': 0, '_cluster_spec': <tensorflow.python.training.server_lib.ClusterSpec object at 0x0000028E96FDB3C8>, '_master': '', '_num_ps_replicas': 0, '_num_worker_replicas': 0, '_environment': 'local', '_is_chief': True, '_evaluation_master': '', '_tf_config': gpu_options {\n",
      "  per_process_gpu_memory_fraction: 1\n",
      "}\n",
      ", '_tf_random_seed': 42, '_save_summary_steps': 100, '_save_checkpoints_secs': 600, '_session_config': None, '_save_checkpoints_steps': None, '_keep_checkpoint_max': 5, '_keep_checkpoint_every_n_hours': 10000, '_model_dir': 'C:\\\\Users\\\\burt\\\\AppData\\\\Local\\\\Temp\\\\tmp15_wt50_'}\n",
      "WARNING:tensorflow:From C:\\Users\\burt\\Anaconda3\\lib\\site-packages\\tensorflow\\contrib\\learn\\python\\learn\\estimators\\head.py:625: scalar_summary (from tensorflow.python.ops.logging_ops) is deprecated and will be removed after 2016-11-30.\n",
      "Instructions for updating:\n",
      "Please switch to tf.summary.scalar. Note that tf.summary.scalar uses the node name instead of the tag. This means that TensorFlow will automatically de-duplicate summary names based on the scope they are created in. Also, passing a tensor or list of tags to a scalar summary op is no longer supported.\n",
      "INFO:tensorflow:Create CheckpointSaverHook.\n",
      "INFO:tensorflow:Saving checkpoints for 1 into C:\\Users\\burt\\AppData\\Local\\Temp\\tmp15_wt50_\\model.ckpt.\n",
      "INFO:tensorflow:loss = 2.36404, step = 1\n",
      "INFO:tensorflow:global_step/sec: 169.328\n",
      "INFO:tensorflow:loss = 0.311432, step = 101 (0.592 sec)\n",
      "INFO:tensorflow:global_step/sec: 183.334\n",
      "INFO:tensorflow:loss = 0.265409, step = 201 (0.546 sec)\n",
      "INFO:tensorflow:global_step/sec: 198.278\n",
      "INFO:tensorflow:loss = 0.408733, step = 301 (0.504 sec)\n",
      "INFO:tensorflow:global_step/sec: 211.077\n",
      "INFO:tensorflow:loss = 0.244357, step = 401 (0.475 sec)\n",
      "INFO:tensorflow:global_step/sec: 160.344\n",
      "INFO:tensorflow:loss = 0.238858, step = 501 (0.623 sec)\n",
      "INFO:tensorflow:global_step/sec: 192.909\n",
      "INFO:tensorflow:loss = 0.091827, step = 601 (0.520 sec)\n",
      "INFO:tensorflow:global_step/sec: 185.207\n",
      "INFO:tensorflow:loss = 0.123374, step = 701 (0.540 sec)\n",
      "INFO:tensorflow:global_step/sec: 184.693\n",
      "INFO:tensorflow:loss = 0.196473, step = 801 (0.541 sec)\n",
      "INFO:tensorflow:global_step/sec: 179.701\n",
      "INFO:tensorflow:loss = 0.0932024, step = 901 (0.556 sec)\n",
      "INFO:tensorflow:global_step/sec: 196.714\n",
      "INFO:tensorflow:loss = 0.196834, step = 1001 (0.508 sec)\n",
      "INFO:tensorflow:global_step/sec: 167.339\n",
      "INFO:tensorflow:loss = 0.194408, step = 1101 (0.600 sec)\n",
      "INFO:tensorflow:global_step/sec: 170.924\n",
      "INFO:tensorflow:loss = 0.152048, step = 1201 (0.583 sec)\n",
      "INFO:tensorflow:global_step/sec: 201.483\n",
      "INFO:tensorflow:loss = 0.149761, step = 1301 (0.496 sec)\n",
      "INFO:tensorflow:global_step/sec: 178.253\n",
      "INFO:tensorflow:loss = 0.0647763, step = 1401 (0.563 sec)\n",
      "INFO:tensorflow:global_step/sec: 181.172\n",
      "INFO:tensorflow:loss = 0.0727728, step = 1501 (0.551 sec)\n",
      "INFO:tensorflow:global_step/sec: 186.942\n",
      "INFO:tensorflow:loss = 0.120371, step = 1601 (0.535 sec)\n",
      "INFO:tensorflow:global_step/sec: 177.463\n",
      "INFO:tensorflow:loss = 0.0426907, step = 1701 (0.562 sec)\n",
      "INFO:tensorflow:global_step/sec: 185.379\n",
      "INFO:tensorflow:loss = 0.148324, step = 1801 (0.539 sec)\n",
      "INFO:tensorflow:global_step/sec: 174.36\n",
      "INFO:tensorflow:loss = 0.073107, step = 1901 (0.577 sec)\n",
      "INFO:tensorflow:global_step/sec: 179.377\n",
      "INFO:tensorflow:loss = 0.0638611, step = 2001 (0.557 sec)\n",
      "INFO:tensorflow:global_step/sec: 188.712\n",
      "INFO:tensorflow:loss = 0.0233887, step = 2101 (0.528 sec)\n",
      "INFO:tensorflow:global_step/sec: 190.514\n",
      "INFO:tensorflow:loss = 0.0329285, step = 2201 (0.524 sec)\n",
      "INFO:tensorflow:global_step/sec: 187.998\n",
      "INFO:tensorflow:loss = 0.0519914, step = 2301 (0.531 sec)\n",
      "INFO:tensorflow:global_step/sec: 197.688\n",
      "INFO:tensorflow:loss = 0.0577268, step = 2401 (0.507 sec)\n",
      "INFO:tensorflow:global_step/sec: 193.283\n",
      "INFO:tensorflow:loss = 0.084227, step = 2501 (0.518 sec)\n",
      "INFO:tensorflow:global_step/sec: 194.983\n",
      "INFO:tensorflow:loss = 0.0315869, step = 2601 (0.514 sec)\n",
      "INFO:tensorflow:global_step/sec: 188.89\n",
      "INFO:tensorflow:loss = 0.0121763, step = 2701 (0.526 sec)\n",
      "INFO:tensorflow:global_step/sec: 193.28\n",
      "INFO:tensorflow:loss = 0.0630663, step = 2801 (0.518 sec)\n",
      "INFO:tensorflow:global_step/sec: 182.329\n",
      "INFO:tensorflow:loss = 0.0913481, step = 2901 (0.547 sec)\n",
      "INFO:tensorflow:global_step/sec: 187.118\n",
      "INFO:tensorflow:loss = 0.0138151, step = 3001 (0.534 sec)\n",
      "INFO:tensorflow:global_step/sec: 194.224\n",
      "INFO:tensorflow:loss = 0.0337465, step = 3101 (0.515 sec)\n",
      "INFO:tensorflow:global_step/sec: 196.703\n",
      "INFO:tensorflow:loss = 0.0132512, step = 3201 (0.509 sec)\n",
      "INFO:tensorflow:global_step/sec: 194.222\n",
      "INFO:tensorflow:loss = 0.0321816, step = 3301 (0.513 sec)\n",
      "INFO:tensorflow:global_step/sec: 201.279\n",
      "INFO:tensorflow:loss = 0.143895, step = 3401 (0.497 sec)\n",
      "INFO:tensorflow:global_step/sec: 219.196\n",
      "INFO:tensorflow:loss = 0.0897496, step = 3501 (0.456 sec)\n",
      "INFO:tensorflow:global_step/sec: 214.944\n",
      "INFO:tensorflow:loss = 0.157295, step = 3601 (0.466 sec)\n",
      "INFO:tensorflow:global_step/sec: 185.035\n",
      "INFO:tensorflow:loss = 0.03669, step = 3701 (0.540 sec)\n",
      "INFO:tensorflow:global_step/sec: 211.974\n",
      "INFO:tensorflow:loss = 0.0122543, step = 3801 (0.473 sec)\n",
      "INFO:tensorflow:global_step/sec: 216.812\n",
      "INFO:tensorflow:loss = 0.152421, step = 3901 (0.460 sec)\n",
      "INFO:tensorflow:Saving checkpoints for 4000 into C:\\Users\\burt\\AppData\\Local\\Temp\\tmp15_wt50_\\model.ckpt.\n",
      "INFO:tensorflow:Loss for final step: 0.0282232.\n"
     ]
    },
    {
     "data": {
      "text/plain": [
       "SKCompat()"
      ]
     },
     "execution_count": 6,
     "metadata": {},
     "output_type": "execute_result"
    }
   ],
   "source": [
    "import tensorflow as tf\n",
    "\n",
    "config = tf.contrib.learn.RunConfig(tf_random_seed=42) # not shown in the config\n",
    "\n",
    "feature_cols = tf.contrib.learn.infer_real_valued_columns_from_input(X_train)\n",
    "dnn_clf = tf.contrib.learn.DNNClassifier(hidden_units=[300,100], n_classes=10,\n",
    "                                         feature_columns=feature_cols, config=config)\n",
    "dnn_clf = tf.contrib.learn.SKCompat(dnn_clf) # if TensorFlow >= 1.1\n",
    "dnn_clf.fit(X_train, y_train, batch_size=50, steps=4000)"
   ]
  },
  {
   "cell_type": "code",
   "execution_count": 7,
   "metadata": {},
   "outputs": [
    {
     "name": "stdout",
     "output_type": "stream",
     "text": [
      "INFO:tensorflow:Restoring parameters from C:\\Users\\burt\\AppData\\Local\\Temp\\tmp15_wt50_\\model.ckpt-4000\n"
     ]
    },
    {
     "data": {
      "text/plain": [
       "0.97860000000000003"
      ]
     },
     "execution_count": 7,
     "metadata": {},
     "output_type": "execute_result"
    }
   ],
   "source": [
    "from sklearn.metrics import accuracy_score\n",
    "\n",
    "y_pred = dnn_clf.predict(X_test)\n",
    "accuracy_score(y_test, y_pred['classes'])"
   ]
  },
  {
   "cell_type": "code",
   "execution_count": 8,
   "metadata": {
    "collapsed": true
   },
   "outputs": [],
   "source": [
    "%run ../../ConfusionMatrix.ipynb   "
   ]
  },
  {
   "cell_type": "code",
   "execution_count": 9,
   "metadata": {},
   "outputs": [
    {
     "name": "stdout",
     "output_type": "stream",
     "text": [
      "Confusion matrix, without normalization\n",
      "[[ 970    0    0    0    1    3    1    1    3    1]\n",
      " [   0 1124    2    1    0    2    2    1    3    0]\n",
      " [   4    0 1010    5    1    0    1    6    5    0]\n",
      " [   0    0    3  997    0    2    0    4    2    2]\n",
      " [   0    0    3    1  958    0    5    1    0   14]\n",
      " [   2    1    0   11    2  864    4    1    5    2]\n",
      " [   5    2    2    0    2    4  940    0    3    0]\n",
      " [   2    8    8    2    0    0    0 1004    1    3]\n",
      " [   3    1    4   11    2    4    2    4  939    4]\n",
      " [   3    4    0    9    6    1    1    5    0  980]]\n"
     ]
    },
    {
     "data": {
      "image/png": "[encoded data removed]",
      "text/plain": [
       "<matplotlib.figure.Figure at 0x28e97c0b940>"
      ]
     },
     "metadata": {},
     "output_type": "display_data"
    }
   ],
   "source": [
    "cnf_matrix = confusion_matrix(y_test, y_pred['classes'])\n",
    "plot_confusion_matrix(cnf_matrix, range(0,10))\n",
    "plt.show()"
   ]
  },
  {
   "cell_type": "code",
   "execution_count": 11,
   "metadata": {
    "collapsed": true
   },
   "outputs": [],
   "source": [
    "import tensorflow as tf\n",
    "\n",
    "n_inputs = 28*28  # MNIST\n",
    "n_hidden1 = 300\n",
    "n_hidden2 = 100\n",
    "n_outputs = 10"
   ]
  },
  {
   "cell_type": "code",
   "execution_count": 12,
   "metadata": {
    "collapsed": true
   },
   "outputs": [],
   "source": [
    "X = tf.placeholder(tf.float32, shape=(None, n_inputs), name=\"X\")\n",
    "y = tf.placeholder(tf.int64, shape=(None), name=\"y\")"
   ]
  },
  {
   "cell_type": "code",
   "execution_count": 13,
   "metadata": {
    "collapsed": true
   },
   "outputs": [],
   "source": [
    "def neuron_layer(X, n_neurons, name, activation=None):\n",
    "    with tf.name_scope(name):\n",
    "        n_inputs = int(X.get_shape()[1])\n",
    "        stddev = 2 / np.sqrt(n_inputs)\n",
    "        init = tf.truncated_normal((n_inputs, n_neurons), stddev=stddev)\n",
    "        W = tf.Variable(init, name=\"kernel\")\n",
    "        b = tf.Variable(tf.zeros([n_neurons]), name=\"bias\")\n",
    "        Z = tf.matmul(X, W) + b\n",
    "        if activation is not None:\n",
    "            return activation(Z)\n",
    "        else:\n",
    "            return Z"
   ]
  },
  {
   "cell_type": "code",
   "execution_count": 14,
   "metadata": {
    "collapsed": true
   },
   "outputs": [],
   "source": [
    "with tf.name_scope(\"dnn\"):\n",
    "    hidden1 = neuron_layer(X, n_hidden1, name=\"hidden1\",\n",
    "                           activation=tf.nn.relu)\n",
    "    hidden2 = neuron_layer(hidden1, n_hidden2, name=\"hidden2\",\n",
    "                           activation=tf.nn.relu)\n",
    "    logits = neuron_layer(hidden2, n_outputs, name=\"outputs\")"
   ]
  },
  {
   "cell_type": "code",
   "execution_count": 15,
   "metadata": {
    "collapsed": true
   },
   "outputs": [],
   "source": [
    "with tf.name_scope(\"loss\"):\n",
    "    xentropy = tf.nn.sparse_softmax_cross_entropy_with_logits(labels=y,\n",
    "                                                              logits=logits)\n",
    "    loss = tf.reduce_mean(xentropy, name=\"loss\")"
   ]
  },
  {
   "cell_type": "code",
   "execution_count": 16,
   "metadata": {
    "collapsed": true
   },
   "outputs": [],
   "source": [
    "learning_rate = 0.01\n",
    "\n",
    "with tf.name_scope(\"train\"):12;pn0 \n",
    "    optimizer = tf.train.GradientDescentOptimizer(learning_rate)\n",
    "    training_op = optimizer.minimize(loss)"
   ]
  },
  {
   "cell_type": "code",
   "execution_count": 17,
   "metadata": {
    "collapsed": true
   },
   "outputs": [],
   "source": [
    "with tf.name_scope(\"eval\"):\n",
    "    correct = tf.nn.in_top_k(logits, y, 1)\n",
    "    accuracy = tf.reduce_mean(tf.cast(correct, tf.float32))"
   ]
  },
  {
   "cell_type": "code",
   "execution_count": 18,
   "metadata": {
    "collapsed": true
   },
   "outputs": [],
   "source": [
    "init = tf.global_variables_initializer()\n",
    "saver = tf.train.Saver()"
   ]
  },
  {
   "cell_type": "code",
   "execution_count": 19,
   "metadata": {
    "collapsed": true
   },
   "outputs": [],
   "source": [
    "n_epochs = 40\n",
    "batch_size = 50"
   ]
  },
  {
   "cell_type": "code",
   "execution_count": 20,
   "metadata": {},
   "outputs": [
    {
     "name": "stdout",
     "output_type": "stream",
     "text": [
      "0 Train accuracy: 0.94 Val accuracy: 0.9168\n",
      "1 Train accuracy: 0.94 Val accuracy: 0.934\n",
      "2 Train accuracy: 1.0 Val accuracy: 0.9462\n",
      "3 Train accuracy: 0.92 Val accuracy: 0.9494\n",
      "4 Train accuracy: 0.98 Val accuracy: 0.9562\n",
      "5 Train accuracy: 1.0 Val accuracy: 0.9598\n",
      "6 Train accuracy: 1.0 Val accuracy: 0.963\n",
      "7 Train accuracy: 0.94 Val accuracy: 0.9634\n",
      "8 Train accuracy: 0.98 Val accuracy: 0.9672\n",
      "9 Train accuracy: 0.98 Val accuracy: 0.9676\n",
      "10 Train accuracy: 0.98 Val accuracy: 0.9678\n",
      "11 Train accuracy: 0.98 Val accuracy: 0.9706\n",
      "12 Train accuracy: 1.0 Val accuracy: 0.9696\n",
      "13 Train accuracy: 0.98 Val accuracy: 0.972\n",
      "14 Train accuracy: 0.98 Val accuracy: 0.9722\n",
      "15 Train accuracy: 0.96 Val accuracy: 0.9716\n",
      "16 Train accuracy: 1.0 Val accuracy: 0.9736\n",
      "17 Train accuracy: 1.0 Val accuracy: 0.9726\n",
      "18 Train accuracy: 1.0 Val accuracy: 0.9722\n",
      "19 Train accuracy: 0.98 Val accuracy: 0.9734\n",
      "20 Train accuracy: 0.98 Val accuracy: 0.9752\n",
      "21 Train accuracy: 1.0 Val accuracy: 0.9748\n",
      "22 Train accuracy: 0.98 Val accuracy: 0.975\n",
      "23 Train accuracy: 1.0 Val accuracy: 0.9744\n",
      "24 Train accuracy: 1.0 Val accuracy: 0.975\n",
      "25 Train accuracy: 1.0 Val accuracy: 0.975\n",
      "26 Train accuracy: 1.0 Val accuracy: 0.9748\n",
      "27 Train accuracy: 1.0 Val accuracy: 0.9752\n",
      "28 Train accuracy: 0.98 Val accuracy: 0.9766\n",
      "29 Train accuracy: 1.0 Val accuracy: 0.9772\n",
      "30 Train accuracy: 1.0 Val accuracy: 0.978\n",
      "31 Train accuracy: 1.0 Val accuracy: 0.9778\n",
      "32 Train accuracy: 0.98 Val accuracy: 0.9786\n",
      "33 Train accuracy: 1.0 Val accuracy: 0.9776\n",
      "34 Train accuracy: 1.0 Val accuracy: 0.978\n",
      "35 Train accuracy: 1.0 Val accuracy: 0.9768\n",
      "36 Train accuracy: 1.0 Val accuracy: 0.9782\n",
      "37 Train accuracy: 1.0 Val accuracy: 0.9782\n",
      "38 Train accuracy: 0.98 Val accuracy: 0.979\n",
      "39 Train accuracy: 1.0 Val accuracy: 0.979\n"
     ]
    }
   ],
   "source": [
    "with tf.Session() as sess:\n",
    "    init.run()\n",
    "    for epoch in range(n_epochs):\n",
    "        for iteration in range(mnist.train.num_examples // batch_size):\n",
    "            X_batch, y_batch = mnist.train.next_batch(batch_size)\n",
    "            sess.run(training_op, feed_dict={X: X_batch, y: y_batch})\n",
    "        acc_train = accuracy.eval(feed_dict={X: X_batch, y: y_batch})\n",
    "        acc_val = accuracy.eval(feed_dict={X: mnist.validation.images,\n",
    "                                            y: mnist.validation.labels})\n",
    "        print(epoch, \"Train accuracy:\", acc_train, \"Val accuracy:\", acc_val)\n",
    "\n",
    "    save_path = saver.save(sess, \"./my_model_final.ckpt\")"
   ]
  },
  {
   "cell_type": "code",
   "execution_count": 21,
   "metadata": {},
   "outputs": [
    {
     "name": "stdout",
     "output_type": "stream",
     "text": [
      "INFO:tensorflow:Restoring parameters from ./my_model_final.ckpt\n"
     ]
    }
   ],
   "source": [
    "with tf.Session() as sess:\n",
    "    saver.restore(sess, \"./my_model_final.ckpt\") # or better, use save_path\n",
    "    X_new_scaled = mnist.test.images[:20]\n",
    "    Z = logits.eval(feed_dict={X: X_new_scaled})\n",
    "    y_pred = np.argmax(Z, axis=1)"
   ]
  },
  {
   "cell_type": "code",
   "execution_count": 22,
   "metadata": {},
   "outputs": [
    {
     "name": "stdout",
     "output_type": "stream",
     "text": [
      "Predicted classes: [7 2 1 0 4 1 4 9 5 9 0 6 9 0 1 5 9 7 3 4]\n",
      "Actual classes:    [7 2 1 0 4 1 4 9 5 9 0 6 9 0 1 5 9 7 3 4]\n"
     ]
    }
   ],
   "source": [
    "print(\"Predicted classes:\", y_pred)\n",
    "print(\"Actual classes:   \", mnist.test.labels[:20])"
   ]
  },
  {
   "cell_type": "code",
   "execution_count": 24,
   "metadata": {},
   "outputs": [
    {
     "data": {
      "text/plain": [
       "((20,), <tf.Tensor 'X:0' shape=(?, 784) dtype=float32>)"
      ]
     },
     "execution_count": 24,
     "metadata": {},
     "output_type": "execute_result"
    }
   ],
   "source": [
    "y_pred.shape,X"
   ]
  },
  {
   "cell_type": "code",
   "execution_count": null,
   "metadata": {
    "collapsed": true
   },
   "outputs": [],
   "source": []
  }
 ],
 "metadata": {
  "kernelspec": {
   "display_name": "Python 3",
   "language": "python",
   "name": "python3"
  },
  "language_info": {
   "codemirror_mode": {
    "name": "ipython",
    "version": 3
   },
   "file_extension": ".py",
   "mimetype": "text/x-python",
   "name": "python",
   "nbconvert_exporter": "python",
   "pygments_lexer": "ipython3",
   "version": "3.6.1"
  }
 },
 "nbformat": 4,
 "nbformat_minor": 2
}
