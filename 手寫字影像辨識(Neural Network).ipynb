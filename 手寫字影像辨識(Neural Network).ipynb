{
 "cells": [
  {
   "cell_type": "code",
   "execution_count": 1,
   "metadata": {},
   "outputs": [
    {
     "name": "stderr",
     "output_type": "stream",
     "text": [
      "Using TensorFlow backend.\n"
     ]
    }
   ],
   "source": [
    "import numpy as np\n",
    "np.random.seed(1337)  # seed\n",
    "from keras.datasets import mnist\n",
    "from keras.utils import np_utils\n",
    "from keras.models import Sequential\n",
    "from keras.layers import Dense, Activation\n",
    "from keras.optimizers import RMSprop"
   ]
  },
  {
   "cell_type": "code",
   "execution_count": 2,
   "metadata": {
    "collapsed": true
   },
   "outputs": [],
   "source": [
    "# 從 '~/.keras/datasets/' download (第一次)\n",
    "# X shape (60,000 28x28), y shape (10,000, )\n",
    "(X_train, y_train), (X_test, y_test) = mnist.load_data()"
   ]
  },
  {
   "cell_type": "code",
   "execution_count": 3,
   "metadata": {},
   "outputs": [
    {
     "name": "stdout",
     "output_type": "stream",
     "text": [
      "平均= 33.3184214498\n",
      "最大值= 255\n",
      "最小值= 0\n",
      "中位數= 0.0\n",
      "變異數= 6172.85048229\n",
      "標準差= 78.5674899834\n"
     ]
    }
   ],
   "source": [
    "print('平均=', np.mean(X_train))\n",
    "print('最大值=', np.max(X_train))\n",
    "print('最小值=', np.min(X_train))\n",
    "print('中位數=', np.median(X_train))\n",
    "print('變異數=', np.var(X_train))\n",
    "print('標準差=', np.std(X_train))"
   ]
  },
  {
   "cell_type": "code",
   "execution_count": 4,
   "metadata": {},
   "outputs": [
    {
     "data": {
      "text/plain": [
       "(60000, 28, 28)"
      ]
     },
     "execution_count": 4,
     "metadata": {},
     "output_type": "execute_result"
    }
   ],
   "source": [
    "X_train.shape"
   ]
  },
  {
   "cell_type": "code",
   "execution_count": 5,
   "metadata": {},
   "outputs": [
    {
     "data": {
      "text/plain": [
       "array([[[0, 0, 0, ..., 0, 0, 0],\n",
       "        [0, 0, 0, ..., 0, 0, 0],\n",
       "        [0, 0, 0, ..., 0, 0, 0],\n",
       "        ..., \n",
       "        [0, 0, 0, ..., 0, 0, 0],\n",
       "        [0, 0, 0, ..., 0, 0, 0],\n",
       "        [0, 0, 0, ..., 0, 0, 0]],\n",
       "\n",
       "       [[0, 0, 0, ..., 0, 0, 0],\n",
       "        [0, 0, 0, ..., 0, 0, 0],\n",
       "        [0, 0, 0, ..., 0, 0, 0],\n",
       "        ..., \n",
       "        [0, 0, 0, ..., 0, 0, 0],\n",
       "        [0, 0, 0, ..., 0, 0, 0],\n",
       "        [0, 0, 0, ..., 0, 0, 0]],\n",
       "\n",
       "       [[0, 0, 0, ..., 0, 0, 0],\n",
       "        [0, 0, 0, ..., 0, 0, 0],\n",
       "        [0, 0, 0, ..., 0, 0, 0],\n",
       "        ..., \n",
       "        [0, 0, 0, ..., 0, 0, 0],\n",
       "        [0, 0, 0, ..., 0, 0, 0],\n",
       "        [0, 0, 0, ..., 0, 0, 0]],\n",
       "\n",
       "       ..., \n",
       "       [[0, 0, 0, ..., 0, 0, 0],\n",
       "        [0, 0, 0, ..., 0, 0, 0],\n",
       "        [0, 0, 0, ..., 0, 0, 0],\n",
       "        ..., \n",
       "        [0, 0, 0, ..., 0, 0, 0],\n",
       "        [0, 0, 0, ..., 0, 0, 0],\n",
       "        [0, 0, 0, ..., 0, 0, 0]],\n",
       "\n",
       "       [[0, 0, 0, ..., 0, 0, 0],\n",
       "        [0, 0, 0, ..., 0, 0, 0],\n",
       "        [0, 0, 0, ..., 0, 0, 0],\n",
       "        ..., \n",
       "        [0, 0, 0, ..., 0, 0, 0],\n",
       "        [0, 0, 0, ..., 0, 0, 0],\n",
       "        [0, 0, 0, ..., 0, 0, 0]],\n",
       "\n",
       "       [[0, 0, 0, ..., 0, 0, 0],\n",
       "        [0, 0, 0, ..., 0, 0, 0],\n",
       "        [0, 0, 0, ..., 0, 0, 0],\n",
       "        ..., \n",
       "        [0, 0, 0, ..., 0, 0, 0],\n",
       "        [0, 0, 0, ..., 0, 0, 0],\n",
       "        [0, 0, 0, ..., 0, 0, 0]]], dtype=uint8)"
      ]
     },
     "execution_count": 5,
     "metadata": {},
     "output_type": "execute_result"
    }
   ],
   "source": [
    "X_train"
   ]
  },
  {
   "cell_type": "code",
   "execution_count": 6,
   "metadata": {},
   "outputs": [
    {
     "data": {
      "text/plain": [
       "array([[0, 0, 0, ..., 0, 0, 0],\n",
       "       [0, 0, 0, ..., 0, 0, 0],\n",
       "       [0, 0, 0, ..., 0, 0, 0],\n",
       "       ..., \n",
       "       [0, 0, 0, ..., 0, 0, 0],\n",
       "       [0, 0, 0, ..., 0, 0, 0],\n",
       "       [0, 0, 0, ..., 0, 0, 0]], dtype=uint8)"
      ]
     },
     "execution_count": 6,
     "metadata": {},
     "output_type": "execute_result"
    }
   ],
   "source": [
    "# 6000 * 28 * 28 攤開成 6000 * 784\n",
    "X_train.reshape(X_train.shape[0], -1)"
   ]
  },
  {
   "cell_type": "code",
   "execution_count": 3,
   "metadata": {
    "collapsed": true
   },
   "outputs": [],
   "source": [
    "# 標準化\n",
    "X_train = X_train.reshape(X_train.shape[0], -1) / 255.   # normalize\n",
    "X_test = X_test.reshape(X_test.shape[0], -1) / 255.      # normalize\n",
    "# one-hot encoding\n",
    "y_train = np_utils.to_categorical(y_train, num_classes=10)\n",
    "y_test = np_utils.to_categorical(y_test, num_classes=10)"
   ]
  },
  {
   "cell_type": "code",
   "execution_count": 4,
   "metadata": {},
   "outputs": [
    {
     "data": {
      "text/plain": [
       "(60000, 784)"
      ]
     },
     "execution_count": 4,
     "metadata": {},
     "output_type": "execute_result"
    }
   ],
   "source": [
    "X_train.shape"
   ]
  },
  {
   "cell_type": "code",
   "execution_count": 9,
   "metadata": {},
   "outputs": [
    {
     "data": {
      "text/plain": [
       "array([ 0.        ,  0.        ,  0.        ,  0.        ,  0.        ,\n",
       "        0.        ,  0.        ,  0.        ,  0.        ,  0.        ,\n",
       "        0.        ,  0.        ,  0.        ,  0.        ,  0.        ,\n",
       "        0.        ,  0.        ,  0.        ,  0.        ,  0.        ,\n",
       "        0.        ,  0.        ,  0.        ,  0.        ,  0.        ,\n",
       "        0.        ,  0.        ,  0.        ,  0.        ,  0.        ,\n",
       "        0.        ,  0.        ,  0.        ,  0.        ,  0.        ,\n",
       "        0.        ,  0.        ,  0.        ,  0.        ,  0.        ,\n",
       "        0.        ,  0.        ,  0.        ,  0.        ,  0.        ,\n",
       "        0.        ,  0.        ,  0.        ,  0.        ,  0.        ,\n",
       "        0.        ,  0.        ,  0.        ,  0.        ,  0.        ,\n",
       "        0.        ,  0.        ,  0.        ,  0.        ,  0.        ,\n",
       "        0.        ,  0.        ,  0.        ,  0.        ,  0.        ,\n",
       "        0.        ,  0.        ,  0.        ,  0.        ,  0.        ,\n",
       "        0.        ,  0.        ,  0.        ,  0.        ,  0.        ,\n",
       "        0.        ,  0.        ,  0.        ,  0.        ,  0.        ,\n",
       "        0.        ,  0.        ,  0.        ,  0.        ,  0.        ,\n",
       "        0.        ,  0.        ,  0.        ,  0.        ,  0.        ,\n",
       "        0.        ,  0.        ,  0.        ,  0.        ,  0.        ,\n",
       "        0.        ,  0.        ,  0.        ,  0.        ,  0.        ,\n",
       "        0.        ,  0.        ,  0.        ,  0.        ,  0.        ,\n",
       "        0.        ,  0.        ,  0.        ,  0.        ,  0.        ,\n",
       "        0.        ,  0.        ,  0.        ,  0.        ,  0.        ,\n",
       "        0.        ,  0.        ,  0.        ,  0.        ,  0.        ,\n",
       "        0.        ,  0.        ,  0.        ,  0.        ,  0.        ,\n",
       "        0.        ,  0.        ,  0.        ,  0.        ,  0.        ,\n",
       "        0.        ,  0.        ,  0.        ,  0.        ,  0.        ,\n",
       "        0.        ,  0.        ,  0.        ,  0.        ,  0.        ,\n",
       "        0.        ,  0.        ,  0.        ,  0.        ,  0.        ,\n",
       "        0.        ,  0.        ,  0.        ,  0.        ,  0.        ,\n",
       "        0.        ,  0.        ,  0.01176471,  0.07058824,  0.07058824,\n",
       "        0.07058824,  0.49411765,  0.53333333,  0.68627451,  0.10196078,\n",
       "        0.65098039,  1.        ,  0.96862745,  0.49803922,  0.        ,\n",
       "        0.        ,  0.        ,  0.        ,  0.        ,  0.        ,\n",
       "        0.        ,  0.        ,  0.        ,  0.        ,  0.        ,\n",
       "        0.        ,  0.11764706,  0.14117647,  0.36862745,  0.60392157,\n",
       "        0.66666667,  0.99215686,  0.99215686,  0.99215686,  0.99215686,\n",
       "        0.99215686,  0.88235294,  0.6745098 ,  0.99215686,  0.94901961,\n",
       "        0.76470588,  0.25098039,  0.        ,  0.        ,  0.        ,\n",
       "        0.        ,  0.        ,  0.        ,  0.        ,  0.        ,\n",
       "        0.        ,  0.        ,  0.        ,  0.19215686,  0.93333333,\n",
       "        0.99215686,  0.99215686,  0.99215686,  0.99215686,  0.99215686,\n",
       "        0.99215686,  0.99215686,  0.99215686,  0.98431373,  0.36470588,\n",
       "        0.32156863,  0.32156863,  0.21960784,  0.15294118,  0.        ,\n",
       "        0.        ,  0.        ,  0.        ,  0.        ,  0.        ,\n",
       "        0.        ,  0.        ,  0.        ,  0.        ,  0.        ,\n",
       "        0.        ,  0.07058824,  0.85882353,  0.99215686,  0.99215686,\n",
       "        0.99215686,  0.99215686,  0.99215686,  0.77647059,  0.71372549,\n",
       "        0.96862745,  0.94509804,  0.        ,  0.        ,  0.        ,\n",
       "        0.        ,  0.        ,  0.        ,  0.        ,  0.        ,\n",
       "        0.        ,  0.        ,  0.        ,  0.        ,  0.        ,\n",
       "        0.        ,  0.        ,  0.        ,  0.        ,  0.        ,\n",
       "        0.31372549,  0.61176471,  0.41960784,  0.99215686,  0.99215686,\n",
       "        0.80392157,  0.04313725,  0.        ,  0.16862745,  0.60392157,\n",
       "        0.        ,  0.        ,  0.        ,  0.        ,  0.        ,\n",
       "        0.        ,  0.        ,  0.        ,  0.        ,  0.        ,\n",
       "        0.        ,  0.        ,  0.        ,  0.        ,  0.        ,\n",
       "        0.        ,  0.        ,  0.        ,  0.        ,  0.05490196,\n",
       "        0.00392157,  0.60392157,  0.99215686,  0.35294118,  0.        ,\n",
       "        0.        ,  0.        ,  0.        ,  0.        ,  0.        ,\n",
       "        0.        ,  0.        ,  0.        ,  0.        ,  0.        ,\n",
       "        0.        ,  0.        ,  0.        ,  0.        ,  0.        ,\n",
       "        0.        ,  0.        ,  0.        ,  0.        ,  0.        ,\n",
       "        0.        ,  0.        ,  0.        ,  0.        ,  0.54509804,\n",
       "        0.99215686,  0.74509804,  0.00784314,  0.        ,  0.        ,\n",
       "        0.        ,  0.        ,  0.        ,  0.        ,  0.        ,\n",
       "        0.        ,  0.        ,  0.        ,  0.        ,  0.        ,\n",
       "        0.        ,  0.        ,  0.        ,  0.        ,  0.        ,\n",
       "        0.        ,  0.        ,  0.        ,  0.        ,  0.        ,\n",
       "        0.        ,  0.        ,  0.04313725,  0.74509804,  0.99215686,\n",
       "        0.2745098 ,  0.        ,  0.        ,  0.        ,  0.        ,\n",
       "        0.        ,  0.        ,  0.        ,  0.        ,  0.        ,\n",
       "        0.        ,  0.        ,  0.        ,  0.        ,  0.        ,\n",
       "        0.        ,  0.        ,  0.        ,  0.        ,  0.        ,\n",
       "        0.        ,  0.        ,  0.        ,  0.        ,  0.        ,\n",
       "        0.        ,  0.1372549 ,  0.94509804,  0.88235294,  0.62745098,\n",
       "        0.42352941,  0.00392157,  0.        ,  0.        ,  0.        ,\n",
       "        0.        ,  0.        ,  0.        ,  0.        ,  0.        ,\n",
       "        0.        ,  0.        ,  0.        ,  0.        ,  0.        ,\n",
       "        0.        ,  0.        ,  0.        ,  0.        ,  0.        ,\n",
       "        0.        ,  0.        ,  0.        ,  0.        ,  0.        ,\n",
       "        0.31764706,  0.94117647,  0.99215686,  0.99215686,  0.46666667,\n",
       "        0.09803922,  0.        ,  0.        ,  0.        ,  0.        ,\n",
       "        0.        ,  0.        ,  0.        ,  0.        ,  0.        ,\n",
       "        0.        ,  0.        ,  0.        ,  0.        ,  0.        ,\n",
       "        0.        ,  0.        ,  0.        ,  0.        ,  0.        ,\n",
       "        0.        ,  0.        ,  0.        ,  0.        ,  0.17647059,\n",
       "        0.72941176,  0.99215686,  0.99215686,  0.58823529,  0.10588235,\n",
       "        0.        ,  0.        ,  0.        ,  0.        ,  0.        ,\n",
       "        0.        ,  0.        ,  0.        ,  0.        ,  0.        ,\n",
       "        0.        ,  0.        ,  0.        ,  0.        ,  0.        ,\n",
       "        0.        ,  0.        ,  0.        ,  0.        ,  0.        ,\n",
       "        0.        ,  0.        ,  0.        ,  0.0627451 ,  0.36470588,\n",
       "        0.98823529,  0.99215686,  0.73333333,  0.        ,  0.        ,\n",
       "        0.        ,  0.        ,  0.        ,  0.        ,  0.        ,\n",
       "        0.        ,  0.        ,  0.        ,  0.        ,  0.        ,\n",
       "        0.        ,  0.        ,  0.        ,  0.        ,  0.        ,\n",
       "        0.        ,  0.        ,  0.        ,  0.        ,  0.        ,\n",
       "        0.        ,  0.        ,  0.        ,  0.97647059,  0.99215686,\n",
       "        0.97647059,  0.25098039,  0.        ,  0.        ,  0.        ,\n",
       "        0.        ,  0.        ,  0.        ,  0.        ,  0.        ,\n",
       "        0.        ,  0.        ,  0.        ,  0.        ,  0.        ,\n",
       "        0.        ,  0.        ,  0.        ,  0.        ,  0.        ,\n",
       "        0.        ,  0.        ,  0.        ,  0.18039216,  0.50980392,\n",
       "        0.71764706,  0.99215686,  0.99215686,  0.81176471,  0.00784314,\n",
       "        0.        ,  0.        ,  0.        ,  0.        ,  0.        ,\n",
       "        0.        ,  0.        ,  0.        ,  0.        ,  0.        ,\n",
       "        0.        ,  0.        ,  0.        ,  0.        ,  0.        ,\n",
       "        0.        ,  0.        ,  0.        ,  0.        ,  0.15294118,\n",
       "        0.58039216,  0.89803922,  0.99215686,  0.99215686,  0.99215686,\n",
       "        0.98039216,  0.71372549,  0.        ,  0.        ,  0.        ,\n",
       "        0.        ,  0.        ,  0.        ,  0.        ,  0.        ,\n",
       "        0.        ,  0.        ,  0.        ,  0.        ,  0.        ,\n",
       "        0.        ,  0.        ,  0.        ,  0.        ,  0.        ,\n",
       "        0.09411765,  0.44705882,  0.86666667,  0.99215686,  0.99215686,\n",
       "        0.99215686,  0.99215686,  0.78823529,  0.30588235,  0.        ,\n",
       "        0.        ,  0.        ,  0.        ,  0.        ,  0.        ,\n",
       "        0.        ,  0.        ,  0.        ,  0.        ,  0.        ,\n",
       "        0.        ,  0.        ,  0.        ,  0.        ,  0.        ,\n",
       "        0.        ,  0.09019608,  0.25882353,  0.83529412,  0.99215686,\n",
       "        0.99215686,  0.99215686,  0.99215686,  0.77647059,  0.31764706,\n",
       "        0.00784314,  0.        ,  0.        ,  0.        ,  0.        ,\n",
       "        0.        ,  0.        ,  0.        ,  0.        ,  0.        ,\n",
       "        0.        ,  0.        ,  0.        ,  0.        ,  0.        ,\n",
       "        0.        ,  0.        ,  0.07058824,  0.67058824,  0.85882353,\n",
       "        0.99215686,  0.99215686,  0.99215686,  0.99215686,  0.76470588,\n",
       "        0.31372549,  0.03529412,  0.        ,  0.        ,  0.        ,\n",
       "        0.        ,  0.        ,  0.        ,  0.        ,  0.        ,\n",
       "        0.        ,  0.        ,  0.        ,  0.        ,  0.        ,\n",
       "        0.        ,  0.        ,  0.        ,  0.21568627,  0.6745098 ,\n",
       "        0.88627451,  0.99215686,  0.99215686,  0.99215686,  0.99215686,\n",
       "        0.95686275,  0.52156863,  0.04313725,  0.        ,  0.        ,\n",
       "        0.        ,  0.        ,  0.        ,  0.        ,  0.        ,\n",
       "        0.        ,  0.        ,  0.        ,  0.        ,  0.        ,\n",
       "        0.        ,  0.        ,  0.        ,  0.        ,  0.        ,\n",
       "        0.        ,  0.53333333,  0.99215686,  0.99215686,  0.99215686,\n",
       "        0.83137255,  0.52941176,  0.51764706,  0.0627451 ,  0.        ,\n",
       "        0.        ,  0.        ,  0.        ,  0.        ,  0.        ,\n",
       "        0.        ,  0.        ,  0.        ,  0.        ,  0.        ,\n",
       "        0.        ,  0.        ,  0.        ,  0.        ,  0.        ,\n",
       "        0.        ,  0.        ,  0.        ,  0.        ,  0.        ,\n",
       "        0.        ,  0.        ,  0.        ,  0.        ,  0.        ,\n",
       "        0.        ,  0.        ,  0.        ,  0.        ,  0.        ,\n",
       "        0.        ,  0.        ,  0.        ,  0.        ,  0.        ,\n",
       "        0.        ,  0.        ,  0.        ,  0.        ,  0.        ,\n",
       "        0.        ,  0.        ,  0.        ,  0.        ,  0.        ,\n",
       "        0.        ,  0.        ,  0.        ,  0.        ,  0.        ,\n",
       "        0.        ,  0.        ,  0.        ,  0.        ,  0.        ,\n",
       "        0.        ,  0.        ,  0.        ,  0.        ,  0.        ,\n",
       "        0.        ,  0.        ,  0.        ,  0.        ,  0.        ,\n",
       "        0.        ,  0.        ,  0.        ,  0.        ,  0.        ,\n",
       "        0.        ,  0.        ,  0.        ,  0.        ,  0.        ,\n",
       "        0.        ,  0.        ,  0.        ,  0.        ,  0.        ,\n",
       "        0.        ,  0.        ,  0.        ,  0.        ,  0.        ,\n",
       "        0.        ,  0.        ,  0.        ,  0.        ,  0.        ,\n",
       "        0.        ,  0.        ,  0.        ,  0.        ,  0.        ,\n",
       "        0.        ,  0.        ,  0.        ,  0.        ])"
      ]
     },
     "execution_count": 9,
     "metadata": {},
     "output_type": "execute_result"
    }
   ],
   "source": [
    "X_train[0]"
   ]
  },
  {
   "cell_type": "code",
   "execution_count": 5,
   "metadata": {},
   "outputs": [
    {
     "data": {
      "image/png": "[encoded data removed]",
      "text/plain": [
       "<matplotlib.figure.Figure at 0x1fa46763cc0>"
      ]
     },
     "metadata": {},
     "output_type": "display_data"
    },
    {
     "name": "stdout",
     "output_type": "stream",
     "text": [
      "5\n"
     ]
    },
    {
     "data": {
      "image/png": "[encoded data removed]",
      "text/plain": [
       "<matplotlib.figure.Figure at 0x1fa4766d780>"
      ]
     },
     "metadata": {},
     "output_type": "display_data"
    },
    {
     "name": "stdout",
     "output_type": "stream",
     "text": [
      "0\n"
     ]
    },
    {
     "data": {
      "image/png": "[encoded data removed]",
      "text/plain": [
       "<matplotlib.figure.Figure at 0x1fa47996f28>"
      ]
     },
     "metadata": {},
     "output_type": "display_data"
    },
    {
     "name": "stdout",
     "output_type": "stream",
     "text": [
      "4\n"
     ]
    }
   ],
   "source": [
    "import matplotlib.pyplot as plt\n",
    "for i in range(0,3):\n",
    "    train_img = np.reshape(X_train[i, :], (28, 28))\n",
    "    plt.matshow(train_img, cmap = plt.get_cmap('binary'))\n",
    "    plt.show()\n",
    "    print(np.argmax(y_train[i]))"
   ]
  },
  {
   "cell_type": "code",
   "execution_count": 6,
   "metadata": {
    "collapsed": true
   },
   "outputs": [],
   "source": [
    "model = Sequential([\n",
    "    Dense(32, input_dim=784),\n",
    "    Activation('relu'),\n",
    "    Dense(10),\n",
    "    Activation('softmax'),\n",
    "])"
   ]
  },
  {
   "cell_type": "code",
   "execution_count": 7,
   "metadata": {
    "collapsed": true
   },
   "outputs": [],
   "source": [
    "# optimizer\n",
    "rmsprop = RMSprop(lr=0.001, rho=0.9, epsilon=1e-08, decay=0.0)"
   ]
  },
  {
   "cell_type": "code",
   "execution_count": 8,
   "metadata": {
    "collapsed": true
   },
   "outputs": [],
   "source": [
    "# add metrics:'accuracy'\n",
    "model.compile(optimizer=rmsprop,\n",
    "              loss='categorical_crossentropy',\n",
    "              metrics=['accuracy'])"
   ]
  },
  {
   "cell_type": "code",
   "execution_count": 9,
   "metadata": {},
   "outputs": [
    {
     "name": "stdout",
     "output_type": "stream",
     "text": [
      "Training ------------\n",
      "Train on 48000 samples, validate on 12000 samples\n",
      "Epoch 1/20\n",
      "48000/48000 [==============================] - 4s 79us/step - loss: 0.3738 - acc: 0.8972 - val_loss: 0.2281 - val_acc: 0.9343\n",
      "Epoch 2/20\n",
      "48000/48000 [==============================] - 3s 72us/step - loss: 0.2142 - acc: 0.9380 - val_loss: 0.1779 - val_acc: 0.9508\n",
      "Epoch 3/20\n",
      "48000/48000 [==============================] - 4s 74us/step - loss: 0.1762 - acc: 0.9491 - val_loss: 0.1612 - val_acc: 0.9537\n",
      "Epoch 4/20\n",
      "48000/48000 [==============================] - 4s 73us/step - loss: 0.1527 - acc: 0.9561 - val_loss: 0.1579 - val_acc: 0.9540\n",
      "Epoch 5/20\n",
      "48000/48000 [==============================] - 4s 77us/step - loss: 0.1373 - acc: 0.9604 - val_loss: 0.1447 - val_acc: 0.9597\n",
      "Epoch 6/20\n",
      "48000/48000 [==============================] - 4s 75us/step - loss: 0.1236 - acc: 0.9645 - val_loss: 0.1404 - val_acc: 0.9597\n",
      "Epoch 7/20\n",
      "48000/48000 [==============================] - 3s 65us/step - loss: 0.1144 - acc: 0.9674 - val_loss: 0.1350 - val_acc: 0.9633\n",
      "Epoch 8/20\n",
      "48000/48000 [==============================] - 3s 64us/step - loss: 0.1075 - acc: 0.9697 - val_loss: 0.1415 - val_acc: 0.9617\n",
      "Epoch 9/20\n",
      "48000/48000 [==============================] - 3s 61us/step - loss: 0.1014 - acc: 0.9710 - val_loss: 0.1335 - val_acc: 0.9617\n",
      "Epoch 10/20\n",
      "48000/48000 [==============================] - 3s 62us/step - loss: 0.0956 - acc: 0.9729 - val_loss: 0.1360 - val_acc: 0.9640\n",
      "Epoch 11/20\n",
      "48000/48000 [==============================] - 4s 79us/step - loss: 0.0922 - acc: 0.9742 - val_loss: 0.1311 - val_acc: 0.9664\n",
      "Epoch 12/20\n",
      "48000/48000 [==============================] - 4s 90us/step - loss: 0.0879 - acc: 0.9755 - val_loss: 0.1317 - val_acc: 0.9641\n",
      "Epoch 13/20\n",
      "48000/48000 [==============================] - 4s 81us/step - loss: 0.0845 - acc: 0.9770 - val_loss: 0.1366 - val_acc: 0.9644\n",
      "Epoch 14/20\n",
      "48000/48000 [==============================] - 4s 82us/step - loss: 0.0814 - acc: 0.9771 - val_loss: 0.1359 - val_acc: 0.9647\n",
      "Epoch 15/20\n",
      "48000/48000 [==============================] - 4s 89us/step - loss: 0.0791 - acc: 0.9788 - val_loss: 0.1440 - val_acc: 0.9635\n",
      "Epoch 16/20\n",
      "48000/48000 [==============================] - 4s 80us/step - loss: 0.0765 - acc: 0.9795 - val_loss: 0.1440 - val_acc: 0.9638\n",
      "Epoch 17/20\n",
      "48000/48000 [==============================] - 3s 64us/step - loss: 0.0737 - acc: 0.9804 - val_loss: 0.1411 - val_acc: 0.9643\n",
      "Epoch 18/20\n",
      "48000/48000 [==============================] - 3s 67us/step - loss: 0.0718 - acc: 0.9812 - val_loss: 0.1424 - val_acc: 0.9634\n",
      "Epoch 19/20\n",
      "48000/48000 [==============================] - 4s 78us/step - loss: 0.0695 - acc: 0.9810 - val_loss: 0.1480 - val_acc: 0.9645\n",
      "Epoch 20/20\n",
      "48000/48000 [==============================] - 4s 81us/step - loss: 0.0676 - acc: 0.9822 - val_loss: 0.1511 - val_acc: 0.9643\n"
     ]
    }
   ],
   "source": [
    "print('Training ------------')\n",
    "batch_size = 32\n",
    "history = model.fit(X_train, y_train, epochs=20, batch_size=batch_size, validation_split=0.2)"
   ]
  },
  {
   "cell_type": "code",
   "execution_count": 15,
   "metadata": {},
   "outputs": [
    {
     "name": "stdout",
     "output_type": "stream",
     "text": [
      "\n",
      "Testing ------------\n",
      " 9760/10000 [============================>.] - ETA: 0s\n",
      "test loss:  0.138567378373\n",
      "test accuracy:  0.9667\n"
     ]
    }
   ],
   "source": [
    "print('\\nTesting ------------')\n",
    "# Evaluate the model with the metrics we defined earlier\n",
    "loss, accuracy = model.evaluate(X_test, y_test)\n",
    "\n",
    "print('\\ntest loss: ', loss)\n",
    "print('test accuracy: ', accuracy)"
   ]
  },
  {
   "cell_type": "code",
   "execution_count": 16,
   "metadata": {
    "collapsed": true
   },
   "outputs": [],
   "source": [
    "def plot_history(history, train_metrics, val_metrics, batch_size):\n",
    "    plt.plot(history.history.get(train_metrics),'-o')\n",
    "    plt.plot(history.history.get(val_metrics),'-o')\n",
    "    plt.ylabel(train_metrics)\n",
    "    plt.xlabel('Epochs')\n",
    "    plt.legend(['train', 'validation'])\n",
    "    plt.title('batch_size=' + str(batch_size))"
   ]
  },
  {
   "cell_type": "code",
   "execution_count": 17,
   "metadata": {
    "scrolled": false
   },
   "outputs": [
    {
     "name": "stdout",
     "output_type": "stream",
     "text": [
      "loss [ 0.227  0.177  0.162  0.159  0.144  0.141  0.135  0.143  0.134  0.135\n",
      "  0.133  0.133  0.138  0.138  0.146  0.145  0.14   0.143  0.148  0.152]\n",
      "acc [ 0.935  0.951  0.954  0.953  0.96   0.959  0.963  0.962  0.963  0.964\n",
      "  0.965  0.964  0.965  0.964  0.963  0.964  0.965  0.964  0.965  0.964]\n"
     ]
    }
   ],
   "source": [
    "plt.figure(figsize=(12,4))\n",
    "plt.subplot(1,2,1)\n",
    "plot_history(history, 'loss','val_loss', batch_size)\n",
    "print(\"loss\", np.round(history.history.get('val_loss'), 3))\n",
    "plt.subplot(1,2,2)\n",
    "plot_history(history, 'acc','val_acc', batch_size)\n",
    "print(\"acc\", np.round(history.history.get('val_acc'), 3))"
   ]
  },
  {
   "cell_type": "code",
   "execution_count": 18,
   "metadata": {},
   "outputs": [
    {
     "data": {
      "image/png": "[encoded data removed]",
      "text/plain": [
       "<matplotlib.figure.Figure at 0x21aa49edc88>"
      ]
     },
     "metadata": {},
     "output_type": "display_data"
    },
    {
     "data": {
      "image/png": "[encoded data removed]",
      "text/plain": [
       "<matplotlib.figure.Figure at 0x21aa4c06a90>"
      ]
     },
     "metadata": {},
     "output_type": "display_data"
    },
    {
     "name": "stdout",
     "output_type": "stream",
     "text": [
      "[  9.72547983e-16   1.46758126e-11   1.00000000e+00   2.23712836e-11\n",
      "   9.05864986e-30   3.77871833e-13   8.96004025e-17   4.92175298e-25\n",
      "   9.01584888e-19   7.00098262e-34]\n",
      "Guess =  2 \n",
      " Ans =  2\n"
     ]
    }
   ],
   "source": [
    "ans = model.predict(X_test)[1]\n",
    "train_img = np.reshape(X_test[1,], (28, 28))\n",
    "plt.matshow(train_img, cmap = plt.get_cmap('binary'))\n",
    "plt.show()\n",
    "print(ans)\n",
    "print(\"Guess = \", np.argmax(ans), \"\\n Ans = \", np.argmax(y_test[1]))"
   ]
  },
  {
   "cell_type": "code",
   "execution_count": 19,
   "metadata": {
    "collapsed": true
   },
   "outputs": [],
   "source": [
    "import numpy as np\n",
    "output = []\n",
    "for ele in model.predict(X_test):\n",
    "    #print(np.argmax(ele))\n",
    "    output = [output, ele]\n",
    "    #output.fromlist(ele)\n"
   ]
  },
  {
   "cell_type": "code",
   "execution_count": 20,
   "metadata": {
    "collapsed": true
   },
   "outputs": [],
   "source": [
    "import itertools\n",
    "import numpy as np\n",
    "import matplotlib.pyplot as plt\n",
    "\n",
    "from sklearn import svm, datasets\n",
    "from sklearn.model_selection import train_test_split\n",
    "from sklearn.metrics import confusion_matrix\n",
    "def plot_confusion_matrix(cm, classes,\n",
    "                          normalize=False,\n",
    "                          title='Confusion matrix',\n",
    "                          cmap=plt.cm.Blues):\n",
    "    \"\"\"\n",
    "    This function prints and plots the confusion matrix.\n",
    "    Normalization can be applied by setting `normalize=True`.\n",
    "    \"\"\"\n",
    "    if normalize:\n",
    "        cm = cm.astype('float') / cm.sum(axis=1)[:, np.newaxis]\n",
    "        print(\"Normalized confusion matrix\")\n",
    "    else:\n",
    "        print('Confusion matrix, without normalization')\n",
    "\n",
    "    print(cm)\n",
    "\n",
    "    plt.imshow(cm, interpolation='nearest', cmap=cmap)\n",
    "    plt.title(title)\n",
    "    plt.colorbar()\n",
    "    tick_marks = np.arange(len(classes))\n",
    "    plt.xticks(tick_marks, classes, rotation=45)\n",
    "    plt.yticks(tick_marks, classes)\n",
    "\n",
    "    fmt = '.2f' if normalize else 'd'\n",
    "    thresh = cm.max() / 2.\n",
    "    for i, j in itertools.product(range(cm.shape[0]), range(cm.shape[1])):\n",
    "        plt.text(j, i, format(cm[i, j], fmt),\n",
    "                 horizontalalignment=\"center\",\n",
    "                 color=\"white\" if cm[i, j] > thresh else \"black\")\n",
    "\n",
    "    plt.tight_layout()\n",
    "    plt.ylabel('True label')\n",
    "    plt.xlabel('Predicted label')"
   ]
  },
  {
   "cell_type": "code",
   "execution_count": 50,
   "metadata": {},
   "outputs": [
    {
     "name": "stdout",
     "output_type": "stream",
     "text": [
      "<class 'numpy.ndarray'>\n",
      "[ 7.  2.  1. ...,  4.  5.  6.]\n",
      "[ 7.  2.  1. ...,  4.  5.  6.]\n"
     ]
    }
   ],
   "source": [
    "ans = model.predict(X_test)\n",
    "y_pred_value = np.array([])\n",
    "y_test_value = np.array([])\n",
    "\n",
    "print(type(y_test))\n",
    "for ele in ans:\n",
    "    y_pred_value = np.append(y_pred_value, np.argmax(ele))\n",
    "    #print(ele, np.argmax(ele))\n",
    "for ele in y_test:\n",
    "    y_test_value = np.append(y_test_value, np.argmax(ele))\n",
    "    #print(ele, np.argmax(y_test))\n",
    "#    y_test_value = [y_test_value, np.argmax(ele2)]\n",
    "#print(shape(y_pred))\n",
    "print(y_pred_value)\n",
    "print(y_test_value)\n"
   ]
  },
  {
   "cell_type": "code",
   "execution_count": 51,
   "metadata": {},
   "outputs": [
    {
     "data": {
      "text/plain": [
       "array([[ 963,    1,    4,    2,    1,    3,    5,    0,    9,    4],\n",
       "       [   0, 1118,    3,    2,    0,    0,    3,    1,    1,    6],\n",
       "       [   1,    7, 1003,   13,    3,    1,    5,   14,    8,    1],\n",
       "       [   1,    0,    5,  968,    1,   14,    0,    5,   13,    8],\n",
       "       [   1,    0,    3,    0,  959,    2,    4,    3,    2,   15],\n",
       "       [   4,    0,    0,    5,    2,  850,    6,    1,    5,    5],\n",
       "       [   5,    3,    4,    0,    4,    9,  932,    0,    2,    1],\n",
       "       [   2,    1,    5,    7,    3,    3,    0,  997,    3,   10],\n",
       "       [   2,    5,    5,    9,    1,    9,    3,    1,  928,   10],\n",
       "       [   1,    0,    0,    4,    8,    1,    0,    6,    3,  949]])"
      ]
     },
     "execution_count": 51,
     "metadata": {},
     "output_type": "execute_result"
    }
   ],
   "source": [
    "cnf_matrix = confusion_matrix(y_pred_value, y_test_value)\n",
    "cnf_matrix\n",
    "#plot_confusion_matrix"
   ]
  },
  {
   "cell_type": "code",
   "execution_count": 1,
   "metadata": {},
   "outputs": [
    {
     "ename": "NameError",
     "evalue": "name 'plt' is not defined",
     "output_type": "error",
     "traceback": [
      "\u001b[1;31m---------------------------------------------------------------------------\u001b[0m",
      "\u001b[1;31mNameError\u001b[0m                                 Traceback (most recent call last)",
      "\u001b[1;32m<ipython-input-1-b3cabe05ea94>\u001b[0m in \u001b[0;36m<module>\u001b[1;34m()\u001b[0m\n\u001b[1;32m----> 1\u001b[1;33m \u001b[0mplt\u001b[0m\u001b[1;33m.\u001b[0m\u001b[0mfigure\u001b[0m\u001b[1;33m(\u001b[0m\u001b[1;33m)\u001b[0m\u001b[1;33m\u001b[0m\u001b[0m\n\u001b[0m\u001b[0;32m      2\u001b[0m plot_confusion_matrix(cnf_matrix, classes=range(0, 10),\n\u001b[0;32m      3\u001b[0m                       title='Confusion matrix, without normalization')\n\u001b[0;32m      4\u001b[0m \u001b[0mplt\u001b[0m\u001b[1;33m.\u001b[0m\u001b[0mshow\u001b[0m\u001b[1;33m(\u001b[0m\u001b[1;33m)\u001b[0m\u001b[1;33m\u001b[0m\u001b[0m\n",
      "\u001b[1;31mNameError\u001b[0m: name 'plt' is not defined"
     ]
    }
   ],
   "source": [
    "plt.figure()\n",
    "plot_confusion_matrix(cnf_matrix, classes=range(0, 10),\n",
    "                      title='Confusion matrix, without normalization')\n",
    "plt.show()"
   ]
  },
  {
   "cell_type": "code",
   "execution_count": 62,
   "metadata": {},
   "outputs": [
    {
     "name": "stdout",
     "output_type": "stream",
     "text": [
      "Normalized confusion matrix\n",
      "[[  9.70766129e-01   1.00806452e-03   4.03225806e-03   2.01612903e-03\n",
      "    1.00806452e-03   3.02419355e-03   5.04032258e-03   0.00000000e+00\n",
      "    9.07258065e-03   4.03225806e-03]\n",
      " [  0.00000000e+00   9.85890653e-01   2.64550265e-03   1.76366843e-03\n",
      "    0.00000000e+00   0.00000000e+00   2.64550265e-03   8.81834215e-04\n",
      "    8.81834215e-04   5.29100529e-03]\n",
      " [  9.46969697e-04   6.62878788e-03   9.49810606e-01   1.23106061e-02\n",
      "    2.84090909e-03   9.46969697e-04   4.73484848e-03   1.32575758e-02\n",
      "    7.57575758e-03   9.46969697e-04]\n",
      " [  9.85221675e-04   0.00000000e+00   4.92610837e-03   9.53694581e-01\n",
      "    9.85221675e-04   1.37931034e-02   0.00000000e+00   4.92610837e-03\n",
      "    1.28078818e-02   7.88177340e-03]\n",
      " [  1.01112235e-03   0.00000000e+00   3.03336704e-03   0.00000000e+00\n",
      "    9.69666330e-01   2.02224469e-03   4.04448938e-03   3.03336704e-03\n",
      "    2.02224469e-03   1.51668352e-02]\n",
      " [  4.55580866e-03   0.00000000e+00   0.00000000e+00   5.69476082e-03\n",
      "    2.27790433e-03   9.68109339e-01   6.83371298e-03   1.13895216e-03\n",
      "    5.69476082e-03   5.69476082e-03]\n",
      " [  5.20833333e-03   3.12500000e-03   4.16666667e-03   0.00000000e+00\n",
      "    4.16666667e-03   9.37500000e-03   9.70833333e-01   0.00000000e+00\n",
      "    2.08333333e-03   1.04166667e-03]\n",
      " [  1.93986421e-03   9.69932105e-04   4.84966052e-03   6.78952473e-03\n",
      "    2.90979631e-03   2.90979631e-03   0.00000000e+00   9.67022308e-01\n",
      "    2.90979631e-03   9.69932105e-03]\n",
      " [  2.05549846e-03   5.13874615e-03   5.13874615e-03   9.24974306e-03\n",
      "    1.02774923e-03   9.24974306e-03   3.08324769e-03   1.02774923e-03\n",
      "    9.53751285e-01   1.02774923e-02]\n",
      " [  1.02880658e-03   0.00000000e+00   0.00000000e+00   4.11522634e-03\n",
      "    8.23045267e-03   1.02880658e-03   0.00000000e+00   6.17283951e-03\n",
      "    3.08641975e-03   9.76337449e-01]]\n"
     ]
    },
    {
     "data": {
      "image/png": "[encoded data removed]",
      "text/plain": [
       "<matplotlib.figure.Figure at 0x21aa6f09c88>"
      ]
     },
     "metadata": {},
     "output_type": "display_data"
    }
   ],
   "source": [
    "plt.figure()\n",
    "plot_confusion_matrix(cnf_matrix, classes=range(0, 10), normalize=True,\n",
    "                      title='Normalized confusion matrix')\n",
    "plt.show()"
   ]
  },
  {
   "cell_type": "code",
   "execution_count": 15,
   "metadata": {},
   "outputs": [
    {
     "ename": "TypeError",
     "evalue": "multi_gpu_model() missing 1 required positional argument: 'gpus'",
     "output_type": "error",
     "traceback": [
      "\u001b[1;31m---------------------------------------------------------------------------\u001b[0m",
      "\u001b[1;31mTypeError\u001b[0m                                 Traceback (most recent call last)",
      "\u001b[1;32m<ipython-input-15-5808a3ed7040>\u001b[0m in \u001b[0;36m<module>\u001b[1;34m()\u001b[0m\n\u001b[0;32m      2\u001b[0m \u001b[1;32mimport\u001b[0m \u001b[0mtime\u001b[0m\u001b[1;33m\u001b[0m\u001b[0m\n\u001b[0;32m      3\u001b[0m \u001b[0ms\u001b[0m \u001b[1;33m=\u001b[0m \u001b[0mtime\u001b[0m\u001b[1;33m.\u001b[0m\u001b[0mtime\u001b[0m\u001b[1;33m(\u001b[0m\u001b[1;33m)\u001b[0m\u001b[1;33m\u001b[0m\u001b[0m\n\u001b[1;32m----> 4\u001b[1;33m \u001b[0mparallel_model\u001b[0m \u001b[1;33m=\u001b[0m \u001b[0mmulti_gpu_model\u001b[0m\u001b[1;33m(\u001b[0m\u001b[0mmodel\u001b[0m\u001b[1;33m)\u001b[0m\u001b[1;33m\u001b[0m\u001b[0m\n\u001b[0m\u001b[0;32m      5\u001b[0m parallel_model.compile(optimizer=rmsprop,\n\u001b[0;32m      6\u001b[0m                        \u001b[0mloss\u001b[0m\u001b[1;33m=\u001b[0m\u001b[1;34m'categorical_crossentropy'\u001b[0m\u001b[1;33m,\u001b[0m\u001b[1;33m\u001b[0m\u001b[0m\n",
      "\u001b[1;31mTypeError\u001b[0m: multi_gpu_model() missing 1 required positional argument: 'gpus'"
     ]
    }
   ],
   "source": [
    "from keras.utils import multi_gpu_model\n",
    "import time\n",
    "s = time.time()\n",
    "parallel_model = multi_gpu_model(model)\n",
    "parallel_model.compile(optimizer=rmsprop,\n",
    "                       loss='categorical_crossentropy',\n",
    "                       metrics=['accuracy'])\n",
    "parallel_model.fit(x, y, epochs=20, batch_size=256)\n",
    "parallel_model.fit(X_train, y_train, epochs=20, batch_size=batch_size, validation_split=0.2)\n",
    "e = time.time()\n",
    "print(e-s)"
   ]
  },
  {
   "cell_type": "code",
   "execution_count": 16,
   "metadata": {},
   "outputs": [
    {
     "name": "stdout",
     "output_type": "stream",
     "text": [
      "[name: \"/cpu:0\"\n",
      "device_type: \"CPU\"\n",
      "memory_limit: 268435456\n",
      "locality {\n",
      "}\n",
      "incarnation: 14788790237076072682\n",
      "]\n"
     ]
    }
   ],
   "source": [
    "from tensorflow.python.client import device_lib\n",
    "print(device_lib.list_local_devices())"
   ]
  },
  {
   "cell_type": "code",
   "execution_count": null,
   "metadata": {
    "collapsed": true
   },
   "outputs": [],
   "source": []
  }
 ],
 "metadata": {
  "kernelspec": {
   "display_name": "Python 3",
   "language": "python",
   "name": "python3"
  },
  "language_info": {
   "codemirror_mode": {
    "name": "ipython",
    "version": 3
   },
   "file_extension": ".py",
   "mimetype": "text/x-python",
   "name": "python",
   "nbconvert_exporter": "python",
   "pygments_lexer": "ipython3",
   "version": "3.6.1"
  }
 },
 "nbformat": 4,
 "nbformat_minor": 2
}
